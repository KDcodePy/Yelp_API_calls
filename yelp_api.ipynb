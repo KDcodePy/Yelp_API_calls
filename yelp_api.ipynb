{
 "cells": [
  {
   "attachments": {},
   "cell_type": "markdown",
   "metadata": {},
   "source": [
    "# Efficient Yelp API Calls\n",
    "Author: Kim Hazed Delfino"
   ]
  },
  {
   "attachments": {},
   "cell_type": "markdown",
   "metadata": {},
   "source": [
    "## Imports"
   ]
  },
  {
   "cell_type": "code",
   "execution_count": 62,
   "metadata": {},
   "outputs": [],
   "source": [
    "import pandas as pd\n",
    "import numpy as np\n",
    "import matplotlib.pyplot as plt\n",
    "import seaborn as sns\n",
    "import os, json, math, time\n",
    "from yelpapi import YelpAPI\n",
    "from tqdm.notebook import tqdm_notebook\n"
   ]
  },
  {
   "attachments": {},
   "cell_type": "markdown",
   "metadata": {},
   "source": [
    "## Set API credentials and connection"
   ]
  },
  {
   "cell_type": "code",
   "execution_count": 63,
   "metadata": {},
   "outputs": [
    {
     "data": {
      "text/plain": [
       "dict_keys(['client-id', 'api-key'])"
      ]
     },
     "execution_count": 63,
     "metadata": {},
     "output_type": "execute_result"
    }
   ],
   "source": [
    "# Load Credentials\n",
    "with open('/Users/kim/.secret/yelp_api.json') as f: \n",
    "    login = json.load(f)\n",
    "login.keys()\n"
   ]
  },
  {
   "cell_type": "code",
   "execution_count": 64,
   "metadata": {},
   "outputs": [
    {
     "data": {
      "text/plain": [
       "<yelpapi.yelpapi.YelpAPI at 0x1622e91c0>"
      ]
     },
     "execution_count": 64,
     "metadata": {},
     "output_type": "execute_result"
    }
   ],
   "source": [
    "# Instantiate API \n",
    "yelp_api = YelpAPI(login['api-key'], timeout_s=5.0)\n",
    "yelp_api\n"
   ]
  },
  {
   "cell_type": "code",
   "execution_count": 65,
   "metadata": {},
   "outputs": [],
   "source": [
    "# Set API call params\n",
    "LOCATION = \"Miami, FL\"\n",
    "TERM = \"Dinner Cruise\""
   ]
  },
  {
   "cell_type": "code",
   "execution_count": 66,
   "metadata": {},
   "outputs": [
    {
     "data": {
      "text/plain": [
       "'Data/results_in_progress_Miami_Dinner_Cruise.json'"
      ]
     },
     "execution_count": 66,
     "metadata": {},
     "output_type": "execute_result"
    }
   ],
   "source": [
    "\n",
    "# Create path for results \n",
    "JSON_FILE = f\"Data/results_in_progress_{LOCATION.split(',')[0]}_{TERM.replace(' ','_')}.json\"\n",
    "JSON_FILE"
   ]
  },
  {
   "attachments": {},
   "cell_type": "markdown",
   "metadata": {},
   "source": [
    "# Custom Functions to eliminate repeating line of codes"
   ]
  },
  {
   "cell_type": "code",
   "execution_count": 67,
   "metadata": {},
   "outputs": [],
   "source": [
    "# Text colors for visuals\n",
    "reset_color = \"\\033[0m\"\n",
    "red = \"\\033[0;31;40m[!]\" + reset_color\n",
    "green = \"\\033[0;32;40m[i]\" + reset_color\n",
    "yellow = \"\\033[0;33;40m[i]\" + reset_color\n",
    "\n",
    "\n",
    "# Custom function to create/delete JSON file\n",
    "def json_file_maker(JSON_FILE, delete_if_exist=False):\n",
    "\n",
    "    # Check if JSON file exists\n",
    "    file = os.path.isfile(JSON_FILE)\n",
    "\n",
    "    # If file exists\n",
    "    if file: \n",
    "\n",
    "        # Check if user wants to delete if exists \n",
    "        if delete_if_exist:\n",
    "            print(red+f\" {JSON_FILE} Already Exist. Deleting previous file. . . \")\n",
    "            # Delete prev file\n",
    "            os.remove(JSON_FILE) \n",
    "            # Create new JSON file by calling the same function (recussive)\n",
    "            json_file_maker(JSON_FILE,delete_if_exist=False)\n",
    "            print(green+ f\" {JSON_FILE} file has been created!\")\n",
    "\n",
    "        else: \n",
    "            print(red + f\" {JSON_FILE} Already Exist.\"+reset_color)      \n",
    "\n",
    "    # If no existing file\n",
    "    else:\n",
    "\n",
    "        print(yellow+f\" {JSON_FILE} is a new file, Creating empty folder. . . \"+reset_color)\n",
    "\n",
    "        # Get folder name\n",
    "        folder = os.path.dirname(JSON_FILE)\n",
    "\n",
    "        if len(folder)>0:\n",
    "            # Create the folder\n",
    "            os.makedirs(folder,exist_ok=True)\n",
    "\n",
    "        with open(JSON_FILE,'w') as f:\n",
    "            json.dump([],f)\n",
    "        \n",
    "        return print(green + f\" New JSON file {JSON_FILE} has been created!\"+reset_color)"
   ]
  },
  {
   "cell_type": "code",
   "execution_count": 68,
   "metadata": {},
   "outputs": [],
   "source": [
    "# Create custom fuction to run query \n",
    "def run_query(json_file ,location:str, term:str, write_mode = False):\n",
    "\n",
    "    # Load json file\n",
    "    with open(json_file,'r') as f:\n",
    "        previous_results = json.load(f)\n",
    "\n",
    "    # Set offset based on prev results\n",
    "    n_results = len(previous_results)\n",
    "    print(yellow+f\"{n_results} previous results\")\n",
    "\n",
    "    # Run query and store in results \n",
    "    results = yelp_api.search_query(location=LOCATION,\n",
    "                                    term= TERM,\n",
    "                                    offset= n_results)\n",
    "\n",
    "    total_results = results['total']\n",
    "    per_page = len(results['businesses'])\n",
    "    total_pages = math.ceil((total_results-n_results)/per_page)\n",
    "\n",
    "    if not write_mode:\n",
    "        return print(green+f\"{total_results} total results with {per_page} per page and {total_pages} total pages\")\n",
    "    \n",
    "    elif write_mode:\n",
    "\n",
    "        # run query and write the results to json file\n",
    "        for i in tqdm_notebook(range(1,total_pages+1)):\n",
    "            # Load json file\n",
    "            with open(json_file,'r') as f:\n",
    "                previous_results = json.load(f)\n",
    "\n",
    "            # Set breakpoint\n",
    "            limit = 1000\n",
    "            current = n_results+per_page\n",
    "            if current > limit:\n",
    "                print(red+f\"Exeeded {limit} API calls limit, Query shutting down.\")\n",
    "                break\n",
    "\n",
    "            # Set offset based on prev results\n",
    "            n_results = len(previous_results)\n",
    "            if i > 1:\n",
    "                print(yellow+f\"{n_results} previous results\")\n",
    "\n",
    "            # Run query and store in results \n",
    "            results = yelp_api.search_query(location=LOCATION,\n",
    "                                            term= TERM,\n",
    "                                            offset= n_results)\n",
    "            # Update results\n",
    "            previous_results.extend(results['businesses'])\n",
    "\n",
    "            # Save current results to json file\n",
    "            with open(JSON_FILE,'w') as f:\n",
    "                json.dump(previous_results,f)\n",
    "            \n",
    "            time.sleep(.2)\n",
    "        \n",
    "        return print(green+\"Query Complete! Final Results: \"+\"\\033[0;32;40m\"+f\"{results['total']}\"+reset_color)"
   ]
  },
  {
   "cell_type": "code",
   "execution_count": 69,
   "metadata": {},
   "outputs": [
    {
     "name": "stdout",
     "output_type": "stream",
     "text": [
      "\u001b[0;33;40m[i]\u001b[0m Data/results_in_progress_Miami_Dinner_Cruise.json is a new file, Creating empty folder. . . \u001b[0m\n",
      "\u001b[0;32;40m[i]\u001b[0m New JSON file Data/results_in_progress_Miami_Dinner_Cruise.json has been created!\u001b[0m\n"
     ]
    }
   ],
   "source": [
    "# Create json file \n",
    "json_file_maker(JSON_FILE,delete_if_exist=False)"
   ]
  },
  {
   "cell_type": "code",
   "execution_count": 70,
   "metadata": {},
   "outputs": [
    {
     "name": "stdout",
     "output_type": "stream",
     "text": [
      "\u001b[0;31;40m[!]\u001b[0m Data/results_in_progress_Miami_Dinner_Cruise.json Already Exist.\u001b[0m\n"
     ]
    }
   ],
   "source": [
    "# try if our func will catch json file already exists \n",
    "json_file_maker(JSON_FILE,delete_if_exist=False)"
   ]
  },
  {
   "cell_type": "code",
   "execution_count": 71,
   "metadata": {},
   "outputs": [
    {
     "name": "stdout",
     "output_type": "stream",
     "text": [
      "\u001b[0;33;40m[i]\u001b[0m0 previous results\n",
      "\u001b[0;32;40m[i]\u001b[0m116 total results with 20 per page and 6 total pages\n"
     ]
    }
   ],
   "source": [
    "# Run query\n",
    "run_query(JSON_FILE,LOCATION,TERM)"
   ]
  },
  {
   "cell_type": "code",
   "execution_count": 72,
   "metadata": {},
   "outputs": [
    {
     "name": "stdout",
     "output_type": "stream",
     "text": [
      "\u001b[0;33;40m[i]\u001b[0m0 previous results\n"
     ]
    },
    {
     "data": {
      "application/vnd.jupyter.widget-view+json": {
       "model_id": "48a5737201f9484487955a4abf055a93",
       "version_major": 2,
       "version_minor": 0
      },
      "text/plain": [
       "  0%|          | 0/6 [00:00<?, ?it/s]"
      ]
     },
     "metadata": {},
     "output_type": "display_data"
    },
    {
     "name": "stdout",
     "output_type": "stream",
     "text": [
      "\u001b[0;33;40m[i]\u001b[0m20 previous results\n",
      "\u001b[0;33;40m[i]\u001b[0m40 previous results\n",
      "\u001b[0;33;40m[i]\u001b[0m60 previous results\n",
      "\u001b[0;33;40m[i]\u001b[0m80 previous results\n",
      "\u001b[0;33;40m[i]\u001b[0m100 previous results\n",
      "\u001b[0;32;40m[i]\u001b[0mQuery Complete! Final Results: \u001b[0;32;40m116\u001b[0m\n"
     ]
    }
   ],
   "source": [
    "# Run query and save results into json file \n",
    "run_query(JSON_FILE,LOCATION,TERM,write_mode=True)"
   ]
  },
  {
   "cell_type": "code",
   "execution_count": 73,
   "metadata": {},
   "outputs": [
    {
     "data": {
      "text/html": [
       "<div>\n",
       "<style scoped>\n",
       "    .dataframe tbody tr th:only-of-type {\n",
       "        vertical-align: middle;\n",
       "    }\n",
       "\n",
       "    .dataframe tbody tr th {\n",
       "        vertical-align: top;\n",
       "    }\n",
       "\n",
       "    .dataframe thead th {\n",
       "        text-align: right;\n",
       "    }\n",
       "</style>\n",
       "<table border=\"1\" class=\"dataframe\">\n",
       "  <thead>\n",
       "    <tr style=\"text-align: right;\">\n",
       "      <th></th>\n",
       "      <th>id</th>\n",
       "      <th>alias</th>\n",
       "      <th>name</th>\n",
       "      <th>image_url</th>\n",
       "      <th>is_closed</th>\n",
       "      <th>url</th>\n",
       "      <th>review_count</th>\n",
       "      <th>categories</th>\n",
       "      <th>rating</th>\n",
       "      <th>coordinates</th>\n",
       "      <th>transactions</th>\n",
       "      <th>location</th>\n",
       "      <th>phone</th>\n",
       "      <th>display_phone</th>\n",
       "      <th>distance</th>\n",
       "      <th>price</th>\n",
       "    </tr>\n",
       "  </thead>\n",
       "  <tbody>\n",
       "    <tr>\n",
       "      <th>64</th>\n",
       "      <td>CMdjIxBBmNpfMSinbk2a4w</td>\n",
       "      <td>hampton-inn-and-suites-by-hilton-miami-airport...</td>\n",
       "      <td>Hampton Inn &amp; Suites by Hilton Miami Airport S...</td>\n",
       "      <td>https://s3-media2.fl.yelpcdn.com/bphoto/2YoONS...</td>\n",
       "      <td>False</td>\n",
       "      <td>https://www.yelp.com/biz/hampton-inn-and-suite...</td>\n",
       "      <td>86</td>\n",
       "      <td>[{'alias': 'hotels', 'title': 'Hotels'}]</td>\n",
       "      <td>3.5</td>\n",
       "      <td>{'latitude': 25.779061016768495, 'longitude': ...</td>\n",
       "      <td>[]</td>\n",
       "      <td>{'address1': '777 NW 57th Ave', 'address2': ''...</td>\n",
       "      <td>+13052625400</td>\n",
       "      <td>(305) 262-5400</td>\n",
       "      <td>6005.594721</td>\n",
       "      <td>$$</td>\n",
       "    </tr>\n",
       "    <tr>\n",
       "      <th>96</th>\n",
       "      <td>G4iTsJGURb8s66NeUbn5-w</td>\n",
       "      <td>royal-palm-south-beach-miami-a-tribute-portfol...</td>\n",
       "      <td>Royal Palm South Beach Miami, a Tribute Portfo...</td>\n",
       "      <td>https://s3-media4.fl.yelpcdn.com/bphoto/A1Qn7j...</td>\n",
       "      <td>False</td>\n",
       "      <td>https://www.yelp.com/biz/royal-palm-south-beac...</td>\n",
       "      <td>502</td>\n",
       "      <td>[{'alias': 'hotels', 'title': 'Hotels'}]</td>\n",
       "      <td>2.5</td>\n",
       "      <td>{'latitude': 25.7885094, 'longitude': -80.1293...</td>\n",
       "      <td>[]</td>\n",
       "      <td>{'address1': '1545 Collins Ave', 'address2': '...</td>\n",
       "      <td>+13056045700</td>\n",
       "      <td>(305) 604-5700</td>\n",
       "      <td>9941.713344</td>\n",
       "      <td>$$</td>\n",
       "    </tr>\n",
       "    <tr>\n",
       "      <th>35</th>\n",
       "      <td>VkdtCMovs1JMZUKZBinNdw</td>\n",
       "      <td>play-time-water-sports-miami-beach</td>\n",
       "      <td>Play Time Water Sports</td>\n",
       "      <td>https://s3-media2.fl.yelpcdn.com/bphoto/382XVr...</td>\n",
       "      <td>False</td>\n",
       "      <td>https://www.yelp.com/biz/play-time-water-sport...</td>\n",
       "      <td>77</td>\n",
       "      <td>[{'alias': 'boatcharters', 'title': 'Boat Char...</td>\n",
       "      <td>4.0</td>\n",
       "      <td>{'latitude': 25.7654593493781, 'longitude': -8...</td>\n",
       "      <td>[]</td>\n",
       "      <td>{'address1': '300 Alton Rd', 'address2': '', '...</td>\n",
       "      <td>+15167786738</td>\n",
       "      <td>(516) 778-6738</td>\n",
       "      <td>4441.069908</td>\n",
       "      <td>NaN</td>\n",
       "    </tr>\n",
       "    <tr>\n",
       "      <th>114</th>\n",
       "      <td>msST2WziUttElo2pFGVzwg</td>\n",
       "      <td>voyager-of-the-seas-miami</td>\n",
       "      <td>Voyager of the Seas</td>\n",
       "      <td>https://s3-media2.fl.yelpcdn.com/bphoto/VtgiMm...</td>\n",
       "      <td>False</td>\n",
       "      <td>https://www.yelp.com/biz/voyager-of-the-seas-m...</td>\n",
       "      <td>2</td>\n",
       "      <td>[{'alias': 'tours', 'title': 'Tours'}, {'alias...</td>\n",
       "      <td>4.0</td>\n",
       "      <td>{'latitude': 25.7752657, 'longitude': -80.1777...</td>\n",
       "      <td>[]</td>\n",
       "      <td>{'address1': '1050 Carribean Way', 'address2':...</td>\n",
       "      <td>+18002566649</td>\n",
       "      <td>(800) 256-6649</td>\n",
       "      <td>5075.929085</td>\n",
       "      <td>NaN</td>\n",
       "    </tr>\n",
       "    <tr>\n",
       "      <th>11</th>\n",
       "      <td>K3IPYmaK-xRlH24zNrOmcg</td>\n",
       "      <td>carnival-breeze-miami-2</td>\n",
       "      <td>Carnival Breeze</td>\n",
       "      <td>https://s3-media2.fl.yelpcdn.com/bphoto/RplWMk...</td>\n",
       "      <td>False</td>\n",
       "      <td>https://www.yelp.com/biz/carnival-breeze-miami...</td>\n",
       "      <td>70</td>\n",
       "      <td>[{'alias': 'travelservices', 'title': 'Travel ...</td>\n",
       "      <td>3.5</td>\n",
       "      <td>{'latitude': 25.775279, 'longitude': -80.167577}</td>\n",
       "      <td>[]</td>\n",
       "      <td>{'address1': 'N Cruise Blvd', 'address2': '', ...</td>\n",
       "      <td>+18003279501</td>\n",
       "      <td>(800) 327-9501</td>\n",
       "      <td>6138.281616</td>\n",
       "      <td>NaN</td>\n",
       "    </tr>\n",
       "    <tr>\n",
       "      <th>2</th>\n",
       "      <td>9DSfS-_P3jUKdIO-cNhDoQ</td>\n",
       "      <td>tikki-beach-charters-miami-5</td>\n",
       "      <td>Tikki Beach Charters</td>\n",
       "      <td>https://s3-media4.fl.yelpcdn.com/bphoto/VxRIpS...</td>\n",
       "      <td>False</td>\n",
       "      <td>https://www.yelp.com/biz/tikki-beach-charters-...</td>\n",
       "      <td>6</td>\n",
       "      <td>[{'alias': 'boatcharters', 'title': 'Boat Char...</td>\n",
       "      <td>5.0</td>\n",
       "      <td>{'latitude': 25.7950053, 'longitude': -80.1872...</td>\n",
       "      <td>[]</td>\n",
       "      <td>{'address1': '1900 N Bayshore Dr', 'address2':...</td>\n",
       "      <td>+13053502112</td>\n",
       "      <td>(305) 350-2112</td>\n",
       "      <td>4341.181095</td>\n",
       "      <td>NaN</td>\n",
       "    </tr>\n",
       "    <tr>\n",
       "      <th>95</th>\n",
       "      <td>tjlxvkk-uBS6CV8rvzOY5g</td>\n",
       "      <td>juliet-sailing-and-diving-miami</td>\n",
       "      <td>Juliet Sailing and Diving</td>\n",
       "      <td>https://s3-media2.fl.yelpcdn.com/bphoto/211YQ6...</td>\n",
       "      <td>False</td>\n",
       "      <td>https://www.yelp.com/biz/juliet-sailing-and-di...</td>\n",
       "      <td>10</td>\n",
       "      <td>[{'alias': 'scuba', 'title': 'Scuba Diving'}, ...</td>\n",
       "      <td>5.0</td>\n",
       "      <td>{'latitude': 25.7738321, 'longitude': -80.1899...</td>\n",
       "      <td>[]</td>\n",
       "      <td>{'address1': '25 SE 2nd Ave', 'address2': 'Ste...</td>\n",
       "      <td>+18665585438</td>\n",
       "      <td>(866) 558-5438</td>\n",
       "      <td>3961.580112</td>\n",
       "      <td>NaN</td>\n",
       "    </tr>\n",
       "    <tr>\n",
       "      <th>71</th>\n",
       "      <td>pjgVbc_CjeU8t8nb1_AlDQ</td>\n",
       "      <td>gray-line-miami-miami</td>\n",
       "      <td>Gray Line Miami</td>\n",
       "      <td>https://s3-media1.fl.yelpcdn.com/bphoto/Z1pAbY...</td>\n",
       "      <td>False</td>\n",
       "      <td>https://www.yelp.com/biz/gray-line-miami-miami...</td>\n",
       "      <td>25</td>\n",
       "      <td>[{'alias': 'tours', 'title': 'Tours'}]</td>\n",
       "      <td>1.5</td>\n",
       "      <td>{'latitude': 25.77447, 'longitude': -80.19054}</td>\n",
       "      <td>[]</td>\n",
       "      <td>{'address1': '199 E Flagler St', 'address2': '...</td>\n",
       "      <td>+18776431258</td>\n",
       "      <td>(877) 643-1258</td>\n",
       "      <td>3886.854539</td>\n",
       "      <td>NaN</td>\n",
       "    </tr>\n",
       "    <tr>\n",
       "      <th>70</th>\n",
       "      <td>-jZnCMibPIXC3rY1CpSJVw</td>\n",
       "      <td>carnival-victory-downtown-miami</td>\n",
       "      <td>Carnival Victory</td>\n",
       "      <td>https://s3-media3.fl.yelpcdn.com/bphoto/wxuyeG...</td>\n",
       "      <td>False</td>\n",
       "      <td>https://www.yelp.com/biz/carnival-victory-down...</td>\n",
       "      <td>148</td>\n",
       "      <td>[{'alias': 'boatcharters', 'title': 'Boat Char...</td>\n",
       "      <td>3.0</td>\n",
       "      <td>{'latitude': 25.7766517566255, 'longitude': -8...</td>\n",
       "      <td>[]</td>\n",
       "      <td>{'address1': 'Panama Way', 'address2': '', 'ad...</td>\n",
       "      <td>+18007647419</td>\n",
       "      <td>(800) 764-7419</td>\n",
       "      <td>5866.640281</td>\n",
       "      <td>NaN</td>\n",
       "    </tr>\n",
       "    <tr>\n",
       "      <th>99</th>\n",
       "      <td>nao14PM9SXsLQkkv9eGl_g</td>\n",
       "      <td>bruschi-boat-rental-miami</td>\n",
       "      <td>Bruschi Boat Rental</td>\n",
       "      <td>https://s3-media4.fl.yelpcdn.com/bphoto/6X91MT...</td>\n",
       "      <td>False</td>\n",
       "      <td>https://www.yelp.com/biz/bruschi-boat-rental-m...</td>\n",
       "      <td>52</td>\n",
       "      <td>[{'alias': 'boatcharters', 'title': 'Boat Char...</td>\n",
       "      <td>4.5</td>\n",
       "      <td>{'latitude': 25.77481, 'longitude': -80.19773}</td>\n",
       "      <td>[]</td>\n",
       "      <td>{'address1': '', 'address2': '', 'address3': N...</td>\n",
       "      <td>+17867016078</td>\n",
       "      <td>(786) 701-6078</td>\n",
       "      <td>11239.926197</td>\n",
       "      <td>NaN</td>\n",
       "    </tr>\n",
       "  </tbody>\n",
       "</table>\n",
       "</div>"
      ],
      "text/plain": [
       "                         id  \\\n",
       "64   CMdjIxBBmNpfMSinbk2a4w   \n",
       "96   G4iTsJGURb8s66NeUbn5-w   \n",
       "35   VkdtCMovs1JMZUKZBinNdw   \n",
       "114  msST2WziUttElo2pFGVzwg   \n",
       "11   K3IPYmaK-xRlH24zNrOmcg   \n",
       "2    9DSfS-_P3jUKdIO-cNhDoQ   \n",
       "95   tjlxvkk-uBS6CV8rvzOY5g   \n",
       "71   pjgVbc_CjeU8t8nb1_AlDQ   \n",
       "70   -jZnCMibPIXC3rY1CpSJVw   \n",
       "99   nao14PM9SXsLQkkv9eGl_g   \n",
       "\n",
       "                                                 alias  \\\n",
       "64   hampton-inn-and-suites-by-hilton-miami-airport...   \n",
       "96   royal-palm-south-beach-miami-a-tribute-portfol...   \n",
       "35                  play-time-water-sports-miami-beach   \n",
       "114                          voyager-of-the-seas-miami   \n",
       "11                             carnival-breeze-miami-2   \n",
       "2                         tikki-beach-charters-miami-5   \n",
       "95                     juliet-sailing-and-diving-miami   \n",
       "71                               gray-line-miami-miami   \n",
       "70                     carnival-victory-downtown-miami   \n",
       "99                           bruschi-boat-rental-miami   \n",
       "\n",
       "                                                  name  \\\n",
       "64   Hampton Inn & Suites by Hilton Miami Airport S...   \n",
       "96   Royal Palm South Beach Miami, a Tribute Portfo...   \n",
       "35                              Play Time Water Sports   \n",
       "114                                Voyager of the Seas   \n",
       "11                                     Carnival Breeze   \n",
       "2                                 Tikki Beach Charters   \n",
       "95                           Juliet Sailing and Diving   \n",
       "71                                     Gray Line Miami   \n",
       "70                                    Carnival Victory   \n",
       "99                                 Bruschi Boat Rental   \n",
       "\n",
       "                                             image_url  is_closed  \\\n",
       "64   https://s3-media2.fl.yelpcdn.com/bphoto/2YoONS...      False   \n",
       "96   https://s3-media4.fl.yelpcdn.com/bphoto/A1Qn7j...      False   \n",
       "35   https://s3-media2.fl.yelpcdn.com/bphoto/382XVr...      False   \n",
       "114  https://s3-media2.fl.yelpcdn.com/bphoto/VtgiMm...      False   \n",
       "11   https://s3-media2.fl.yelpcdn.com/bphoto/RplWMk...      False   \n",
       "2    https://s3-media4.fl.yelpcdn.com/bphoto/VxRIpS...      False   \n",
       "95   https://s3-media2.fl.yelpcdn.com/bphoto/211YQ6...      False   \n",
       "71   https://s3-media1.fl.yelpcdn.com/bphoto/Z1pAbY...      False   \n",
       "70   https://s3-media3.fl.yelpcdn.com/bphoto/wxuyeG...      False   \n",
       "99   https://s3-media4.fl.yelpcdn.com/bphoto/6X91MT...      False   \n",
       "\n",
       "                                                   url  review_count  \\\n",
       "64   https://www.yelp.com/biz/hampton-inn-and-suite...            86   \n",
       "96   https://www.yelp.com/biz/royal-palm-south-beac...           502   \n",
       "35   https://www.yelp.com/biz/play-time-water-sport...            77   \n",
       "114  https://www.yelp.com/biz/voyager-of-the-seas-m...             2   \n",
       "11   https://www.yelp.com/biz/carnival-breeze-miami...            70   \n",
       "2    https://www.yelp.com/biz/tikki-beach-charters-...             6   \n",
       "95   https://www.yelp.com/biz/juliet-sailing-and-di...            10   \n",
       "71   https://www.yelp.com/biz/gray-line-miami-miami...            25   \n",
       "70   https://www.yelp.com/biz/carnival-victory-down...           148   \n",
       "99   https://www.yelp.com/biz/bruschi-boat-rental-m...            52   \n",
       "\n",
       "                                            categories  rating  \\\n",
       "64            [{'alias': 'hotels', 'title': 'Hotels'}]     3.5   \n",
       "96            [{'alias': 'hotels', 'title': 'Hotels'}]     2.5   \n",
       "35   [{'alias': 'boatcharters', 'title': 'Boat Char...     4.0   \n",
       "114  [{'alias': 'tours', 'title': 'Tours'}, {'alias...     4.0   \n",
       "11   [{'alias': 'travelservices', 'title': 'Travel ...     3.5   \n",
       "2    [{'alias': 'boatcharters', 'title': 'Boat Char...     5.0   \n",
       "95   [{'alias': 'scuba', 'title': 'Scuba Diving'}, ...     5.0   \n",
       "71              [{'alias': 'tours', 'title': 'Tours'}]     1.5   \n",
       "70   [{'alias': 'boatcharters', 'title': 'Boat Char...     3.0   \n",
       "99   [{'alias': 'boatcharters', 'title': 'Boat Char...     4.5   \n",
       "\n",
       "                                           coordinates transactions  \\\n",
       "64   {'latitude': 25.779061016768495, 'longitude': ...           []   \n",
       "96   {'latitude': 25.7885094, 'longitude': -80.1293...           []   \n",
       "35   {'latitude': 25.7654593493781, 'longitude': -8...           []   \n",
       "114  {'latitude': 25.7752657, 'longitude': -80.1777...           []   \n",
       "11    {'latitude': 25.775279, 'longitude': -80.167577}           []   \n",
       "2    {'latitude': 25.7950053, 'longitude': -80.1872...           []   \n",
       "95   {'latitude': 25.7738321, 'longitude': -80.1899...           []   \n",
       "71      {'latitude': 25.77447, 'longitude': -80.19054}           []   \n",
       "70   {'latitude': 25.7766517566255, 'longitude': -8...           []   \n",
       "99      {'latitude': 25.77481, 'longitude': -80.19773}           []   \n",
       "\n",
       "                                              location         phone  \\\n",
       "64   {'address1': '777 NW 57th Ave', 'address2': ''...  +13052625400   \n",
       "96   {'address1': '1545 Collins Ave', 'address2': '...  +13056045700   \n",
       "35   {'address1': '300 Alton Rd', 'address2': '', '...  +15167786738   \n",
       "114  {'address1': '1050 Carribean Way', 'address2':...  +18002566649   \n",
       "11   {'address1': 'N Cruise Blvd', 'address2': '', ...  +18003279501   \n",
       "2    {'address1': '1900 N Bayshore Dr', 'address2':...  +13053502112   \n",
       "95   {'address1': '25 SE 2nd Ave', 'address2': 'Ste...  +18665585438   \n",
       "71   {'address1': '199 E Flagler St', 'address2': '...  +18776431258   \n",
       "70   {'address1': 'Panama Way', 'address2': '', 'ad...  +18007647419   \n",
       "99   {'address1': '', 'address2': '', 'address3': N...  +17867016078   \n",
       "\n",
       "      display_phone      distance price  \n",
       "64   (305) 262-5400   6005.594721    $$  \n",
       "96   (305) 604-5700   9941.713344    $$  \n",
       "35   (516) 778-6738   4441.069908   NaN  \n",
       "114  (800) 256-6649   5075.929085   NaN  \n",
       "11   (800) 327-9501   6138.281616   NaN  \n",
       "2    (305) 350-2112   4341.181095   NaN  \n",
       "95   (866) 558-5438   3961.580112   NaN  \n",
       "71   (877) 643-1258   3886.854539   NaN  \n",
       "70   (800) 764-7419   5866.640281   NaN  \n",
       "99   (786) 701-6078  11239.926197   NaN  "
      ]
     },
     "metadata": {},
     "output_type": "display_data"
    }
   ],
   "source": [
    "# Convert JSON to DataFrame\n",
    "final_df = pd.read_json(JSON_FILE)\n",
    "display(final_df.sample(10))"
   ]
  },
  {
   "cell_type": "code",
   "execution_count": 74,
   "metadata": {},
   "outputs": [
    {
     "data": {
      "text/plain": [
       "0"
      ]
     },
     "execution_count": 74,
     "metadata": {},
     "output_type": "execute_result"
    }
   ],
   "source": [
    "# Check for duplicates\n",
    "final_df.duplicated(subset='id').sum()"
   ]
  },
  {
   "cell_type": "code",
   "execution_count": 75,
   "metadata": {},
   "outputs": [
    {
     "data": {
      "text/plain": [
       "'qweqwe_123'"
      ]
     },
     "execution_count": 75,
     "metadata": {},
     "output_type": "execute_result"
    }
   ],
   "source": [
    "s = \"qweqwe 123\"\n",
    "s.replace(\" \", \"_\")"
   ]
  },
  {
   "cell_type": "code",
   "execution_count": 76,
   "metadata": {},
   "outputs": [],
   "source": [
    "# Save df to as CSV file\n",
    "final_df.to_csv(f'Data/final_results_{LOCATION.split(\",\")[0]}_{TERM.replace(\" \", \"_\")}.csv',index=False)"
   ]
  }
 ],
 "metadata": {
  "kernelspec": {
   "display_name": "Python (dojo-env)",
   "language": "python",
   "name": "dojo-env"
  },
  "language_info": {
   "codemirror_mode": {
    "name": "ipython",
    "version": 3
   },
   "file_extension": ".py",
   "mimetype": "text/x-python",
   "name": "python",
   "nbconvert_exporter": "python",
   "pygments_lexer": "ipython3",
   "version": "3.9.15"
  },
  "orig_nbformat": 4
 },
 "nbformat": 4,
 "nbformat_minor": 2
}
